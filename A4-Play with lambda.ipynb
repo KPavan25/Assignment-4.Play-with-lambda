{
 "cells": [
  {
   "cell_type": "code",
   "execution_count": null,
   "id": "616ace85",
   "metadata": {},
   "outputs": [],
   "source": [
    "'''Write a Python program to create a lambda function that adds 25 to a given number passed in as an argument.\n",
    "sample input: 10\n",
    "sample output: 35'''\n",
    "\n",
    "x = lambda a,b: a+25\n",
    "a = int(input(\"enter the number\"))\n",
    "\n",
    "print(\"the total of the lambda function is\",(x(a,25)))\n",
    "\n"
   ]
  }
 ],
 "metadata": {
  "kernelspec": {
   "display_name": "Python 3 (ipykernel)",
   "language": "python",
   "name": "python3"
  },
  "language_info": {
   "codemirror_mode": {
    "name": "ipython",
    "version": 3
   },
   "file_extension": ".py",
   "mimetype": "text/x-python",
   "name": "python",
   "nbconvert_exporter": "python",
   "pygments_lexer": "ipython3",
   "version": "3.9.12"
  }
 },
 "nbformat": 4,
 "nbformat_minor": 5
}
